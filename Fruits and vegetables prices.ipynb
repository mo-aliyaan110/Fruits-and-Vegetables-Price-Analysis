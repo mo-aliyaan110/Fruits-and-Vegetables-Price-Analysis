{
 "cells": [
  {
   "cell_type": "code",
   "execution_count": 59,
   "id": "69a6efe9",
   "metadata": {},
   "outputs": [],
   "source": [
    "import numpy as np\n",
    "import pandas as pd\n",
    "import matplotlib.pyplot as plt\n",
    "import seaborn as sns\n",
    "import sklearn"
   ]
  },
  {
   "cell_type": "code",
   "execution_count": 47,
   "id": "14ce9ce8",
   "metadata": {},
   "outputs": [],
   "source": [
    "df = pd.read_csv('./DataSets/ProductPriceIndex.csv')"
   ]
  },
  {
   "cell_type": "code",
   "execution_count": 51,
   "id": "a2b0f365",
   "metadata": {},
   "outputs": [
    {
     "data": {
      "text/plain": [
       "(15766, 8)"
      ]
     },
     "execution_count": 51,
     "metadata": {},
     "output_type": "execute_result"
    }
   ],
   "source": [
    "df.shape"
   ]
  },
  {
   "cell_type": "code",
   "execution_count": 54,
   "id": "207513ae",
   "metadata": {},
   "outputs": [
    {
     "data": {
      "text/html": [
       "<div>\n",
       "<style scoped>\n",
       "    .dataframe tbody tr th:only-of-type {\n",
       "        vertical-align: middle;\n",
       "    }\n",
       "\n",
       "    .dataframe tbody tr th {\n",
       "        vertical-align: top;\n",
       "    }\n",
       "\n",
       "    .dataframe thead th {\n",
       "        text-align: right;\n",
       "    }\n",
       "</style>\n",
       "<table border=\"1\" class=\"dataframe\">\n",
       "  <thead>\n",
       "    <tr style=\"text-align: right;\">\n",
       "      <th></th>\n",
       "      <th>productname</th>\n",
       "      <th>date</th>\n",
       "      <th>farmprice</th>\n",
       "      <th>atlantaretail</th>\n",
       "      <th>chicagoretail</th>\n",
       "      <th>losangelesretail</th>\n",
       "      <th>newyorkretail</th>\n",
       "      <th>averagespread</th>\n",
       "    </tr>\n",
       "  </thead>\n",
       "  <tbody>\n",
       "    <tr>\n",
       "      <th>0</th>\n",
       "      <td>Strawberries</td>\n",
       "      <td>2019-05-19</td>\n",
       "      <td>$1.16</td>\n",
       "      <td>$2.23</td>\n",
       "      <td>$1.70</td>\n",
       "      <td>$1.99</td>\n",
       "      <td>$2.54</td>\n",
       "      <td>82.33%</td>\n",
       "    </tr>\n",
       "    <tr>\n",
       "      <th>1</th>\n",
       "      <td>Romaine Lettuce</td>\n",
       "      <td>2019-05-19</td>\n",
       "      <td>$0.35</td>\n",
       "      <td>$1.72</td>\n",
       "      <td>$2.00</td>\n",
       "      <td>$1.69</td>\n",
       "      <td>$1.99</td>\n",
       "      <td>428.57%</td>\n",
       "    </tr>\n",
       "    <tr>\n",
       "      <th>2</th>\n",
       "      <td>Red Leaf Lettuce</td>\n",
       "      <td>2019-05-19</td>\n",
       "      <td>$0.32</td>\n",
       "      <td>$1.84</td>\n",
       "      <td>$1.84</td>\n",
       "      <td>$1.69</td>\n",
       "      <td>$1.89</td>\n",
       "      <td>467.19%</td>\n",
       "    </tr>\n",
       "    <tr>\n",
       "      <th>3</th>\n",
       "      <td>Potatoes</td>\n",
       "      <td>2019-05-19</td>\n",
       "      <td>$1.50</td>\n",
       "      <td>$5.32</td>\n",
       "      <td>$5.14</td>\n",
       "      <td>$3.99</td>\n",
       "      <td>$6.22</td>\n",
       "      <td>244.50%</td>\n",
       "    </tr>\n",
       "    <tr>\n",
       "      <th>4</th>\n",
       "      <td>Oranges</td>\n",
       "      <td>2019-05-19</td>\n",
       "      <td>$0.41</td>\n",
       "      <td>$1.42</td>\n",
       "      <td>$1.45</td>\n",
       "      <td>$1.34</td>\n",
       "      <td>$2.05</td>\n",
       "      <td>281.71%</td>\n",
       "    </tr>\n",
       "  </tbody>\n",
       "</table>\n",
       "</div>"
      ],
      "text/plain": [
       "        productname        date farmprice atlantaretail chicagoretail  \\\n",
       "0      Strawberries  2019-05-19     $1.16         $2.23         $1.70   \n",
       "1   Romaine Lettuce  2019-05-19     $0.35         $1.72         $2.00   \n",
       "2  Red Leaf Lettuce  2019-05-19     $0.32         $1.84         $1.84   \n",
       "3          Potatoes  2019-05-19     $1.50         $5.32         $5.14   \n",
       "4           Oranges  2019-05-19     $0.41         $1.42         $1.45   \n",
       "\n",
       "  losangelesretail newyorkretail averagespread  \n",
       "0            $1.99         $2.54        82.33%  \n",
       "1            $1.69         $1.99       428.57%  \n",
       "2            $1.69         $1.89       467.19%  \n",
       "3            $3.99         $6.22       244.50%  \n",
       "4            $1.34         $2.05       281.71%  "
      ]
     },
     "execution_count": 54,
     "metadata": {},
     "output_type": "execute_result"
    }
   ],
   "source": [
    "df.head()"
   ]
  },
  {
   "cell_type": "code",
   "execution_count": 53,
   "id": "76429f2a",
   "metadata": {
    "scrolled": true
   },
   "outputs": [
    {
     "name": "stdout",
     "output_type": "stream",
     "text": [
      "<class 'pandas.core.frame.DataFrame'>\n",
      "RangeIndex: 15766 entries, 0 to 15765\n",
      "Data columns (total 8 columns):\n",
      " #   Column            Non-Null Count  Dtype \n",
      "---  ------            --------------  ----- \n",
      " 0   productname       15766 non-null  object\n",
      " 1   date              15766 non-null  object\n",
      " 2   farmprice         15766 non-null  object\n",
      " 3   atlantaretail     15766 non-null  object\n",
      " 4   chicagoretail     15766 non-null  object\n",
      " 5   losangelesretail  15766 non-null  object\n",
      " 6   newyorkretail     15766 non-null  object\n",
      " 7   averagespread     15766 non-null  object\n",
      "dtypes: object(8)\n",
      "memory usage: 985.5+ KB\n"
     ]
    }
   ],
   "source": [
    "df.info()"
   ]
  },
  {
   "cell_type": "markdown",
   "id": "6af956c8",
   "metadata": {},
   "source": [
    "All the variables are of categorical type."
   ]
  },
  {
   "cell_type": "code",
   "execution_count": 56,
   "id": "ed44ec6b",
   "metadata": {},
   "outputs": [
    {
     "data": {
      "text/plain": [
       "productname         0\n",
       "date                0\n",
       "farmprice           0\n",
       "atlantaretail       0\n",
       "chicagoretail       0\n",
       "losangelesretail    0\n",
       "newyorkretail       0\n",
       "averagespread       0\n",
       "dtype: int64"
      ]
     },
     "execution_count": 56,
     "metadata": {},
     "output_type": "execute_result"
    }
   ],
   "source": [
    "df.isnull().sum()"
   ]
  },
  {
   "cell_type": "markdown",
   "id": "df1055d9",
   "metadata": {},
   "source": [
    "No missing values in the dataset."
   ]
  },
  {
   "cell_type": "code",
   "execution_count": null,
   "id": "97cb8fb5",
   "metadata": {},
   "outputs": [],
   "source": []
  },
  {
   "cell_type": "code",
   "execution_count": null,
   "id": "0e3fe627",
   "metadata": {},
   "outputs": [],
   "source": []
  },
  {
   "cell_type": "code",
   "execution_count": null,
   "id": "32a45799",
   "metadata": {},
   "outputs": [],
   "source": []
  },
  {
   "cell_type": "code",
   "execution_count": null,
   "id": "4e97264f",
   "metadata": {},
   "outputs": [],
   "source": []
  },
  {
   "cell_type": "code",
   "execution_count": null,
   "id": "199bcbba",
   "metadata": {},
   "outputs": [],
   "source": []
  },
  {
   "cell_type": "code",
   "execution_count": null,
   "id": "20a48ab2",
   "metadata": {},
   "outputs": [],
   "source": []
  }
 ],
 "metadata": {
  "kernelspec": {
   "display_name": "Python 3 (ipykernel)",
   "language": "python",
   "name": "python3"
  },
  "language_info": {
   "codemirror_mode": {
    "name": "ipython",
    "version": 3
   },
   "file_extension": ".py",
   "mimetype": "text/x-python",
   "name": "python",
   "nbconvert_exporter": "python",
   "pygments_lexer": "ipython3",
   "version": "3.9.13"
  }
 },
 "nbformat": 4,
 "nbformat_minor": 5
}
